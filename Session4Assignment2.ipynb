{
 "cells": [
  {
   "cell_type": "code",
   "execution_count": 15,
   "metadata": {},
   "outputs": [
    {
     "data": {
      "text/plain": [
       "[2, 3, 4, 2, 1, 5]"
      ]
     },
     "execution_count": 15,
     "metadata": {},
     "output_type": "execute_result"
    }
   ],
   "source": [
    "def CountList(lst):\n",
    "    element = 0\n",
    "    for item in lst:\n",
    "        element += 1\n",
    "    return element\n",
    " \n",
    "lst =['ab','abc','defg','it','t','ffggg']\n",
    "itemCntList = list(map(CountList, [item for item in lst]))\n",
    "itemCntList"
   ]
  },
  {
   "cell_type": "code",
   "execution_count": 23,
   "metadata": {},
   "outputs": [
    {
     "name": "stdout",
     "output_type": "stream",
     "text": [
      "True\n",
      "False\n",
      "False\n",
      "True\n",
      "You have not passed an Character\n"
     ]
    }
   ],
   "source": [
    "def IsVowels(char):\n",
    "    if isinstance(char, str) and len(char)==1:\n",
    "        vowels = 'AEIOU'\n",
    "        for letter in vowels:\n",
    "            if letter == char.upper():\n",
    "                return True\n",
    "    else:\n",
    "        return \"You have not passed an Character\"\n",
    "    return False\n",
    "\n",
    "print(IsVowels('A'))\n",
    "print(IsVowels('B'))\n",
    "print(IsVowels('C'))\n",
    "print(IsVowels('E'))\n",
    "print(IsVowels('AA'))"
   ]
  },
  {
   "cell_type": "code",
   "execution_count": null,
   "metadata": {
    "collapsed": true
   },
   "outputs": [],
   "source": []
  }
 ],
 "metadata": {
  "kernelspec": {
   "display_name": "Python 3",
   "language": "python",
   "name": "python3"
  },
  "language_info": {
   "codemirror_mode": {
    "name": "ipython",
    "version": 3
   },
   "file_extension": ".py",
   "mimetype": "text/x-python",
   "name": "python",
   "nbconvert_exporter": "python",
   "pygments_lexer": "ipython3",
   "version": "3.6.3"
  }
 },
 "nbformat": 4,
 "nbformat_minor": 2
}
